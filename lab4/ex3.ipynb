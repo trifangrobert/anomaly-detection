{
 "cells": [
  {
   "cell_type": "code",
   "execution_count": 1,
   "metadata": {},
   "outputs": [],
   "source": [
    "from sklearn.model_selection import train_test_split\n",
    "from scipy.io import loadmat\n",
    "\n",
    "from sklearn import preprocessing\n",
    "\n",
    "from pyod.models.ocsvm import OCSVM\n",
    "from pyod.models.deep_svdd import DeepSVDD\n",
    "from pyod.models.base import BaseDetector\n",
    "import matplotlib.pyplot as plt\n",
    "from sklearn.metrics import roc_auc_score\n",
    "from sklearn.metrics import balanced_accuracy_score"
   ]
  },
  {
   "cell_type": "code",
   "execution_count": 2,
   "metadata": {},
   "outputs": [],
   "source": [
    "dataset = loadmat('shuttle.mat')"
   ]
  },
  {
   "cell_type": "code",
   "execution_count": 3,
   "metadata": {},
   "outputs": [
    {
     "data": {
      "text/plain": [
       "{'__header__': b'MATLAB 5.0 MAT-file, Platform: MACI64, Created on: Tue Apr 26 18:16:23 2016',\n",
       " '__version__': '1.0',\n",
       " '__globals__': [],\n",
       " 'X': array([[ 50,  21,  77, ...,  27,  48,  22],\n",
       "        [ 53,   0,  82, ...,  29,  30,   2],\n",
       "        [ 37,   0,  76, ...,  40,  48,   8],\n",
       "        ...,\n",
       "        [ 49,   0,  87, ...,  38,  41,   2],\n",
       "        [ 80,   0,  84, ...,   4, 120, 116],\n",
       "        [ 37,   0, 103, ...,  66,  85,  20]], dtype=int16),\n",
       " 'y': array([[1],\n",
       "        [0],\n",
       "        [0],\n",
       "        ...,\n",
       "        [0],\n",
       "        [1],\n",
       "        [0]], dtype=uint8)}"
      ]
     },
     "execution_count": 3,
     "metadata": {},
     "output_type": "execute_result"
    }
   ],
   "source": [
    "dataset"
   ]
  },
  {
   "cell_type": "code",
   "execution_count": 4,
   "metadata": {},
   "outputs": [],
   "source": [
    "X_train, X_test, y_train, y_test = train_test_split(dataset['X'], dataset['y'], train_size=0.5)"
   ]
  },
  {
   "cell_type": "code",
   "execution_count": 5,
   "metadata": {},
   "outputs": [],
   "source": [
    "normalizer = preprocessing.Normalizer()\n",
    "X_train = normalizer.fit_transform(X_train)\n",
    "X_test = normalizer.transform(X_test)"
   ]
  },
  {
   "cell_type": "code",
   "execution_count": 6,
   "metadata": {},
   "outputs": [
    {
     "data": {
      "text/plain": [
       "((24548, 9), (24549, 9), (24548, 1), (24549, 1))"
      ]
     },
     "execution_count": 6,
     "metadata": {},
     "output_type": "execute_result"
    }
   ],
   "source": [
    "X_train.shape, X_test.shape, y_train.shape, y_test.shape"
   ]
  },
  {
   "cell_type": "code",
   "execution_count": 7,
   "metadata": {},
   "outputs": [],
   "source": [
    "def evaluate_model(model_type: BaseDetector, model_args: dict, train_data, test_data, train_labels, test_labels):\n",
    "    model = model_type(**model_args)\n",
    "    model.fit(train_data)\n",
    "    y_pred = model.predict(test_data)\n",
    "    auc = roc_auc_score(test_labels, y_pred)\n",
    "    bal_acc = balanced_accuracy_score(test_labels, y_pred)\n",
    "    print(f'Model {model_type.__name__} AUC: {auc}, Balanced Accuracy: {bal_acc}')"
   ]
  },
  {
   "cell_type": "code",
   "execution_count": 10,
   "metadata": {},
   "outputs": [
    {
     "name": "stdout",
     "output_type": "stream",
     "text": [
      "Model OCSVM AUC: 0.975447403924457, Balanced Accuracy: 0.9754474039244571\n",
      "Model OCSVM AUC: 0.9274310145744227, Balanced Accuracy: 0.9274310145744227\n",
      "Epoch 1/10, Loss: 172.73445318639278\n",
      "Epoch 2/10, Loss: 173.59464502334595\n",
      "Epoch 3/10, Loss: 172.70170405507088\n",
      "Epoch 4/10, Loss: 174.2941930219531\n",
      "Epoch 5/10, Loss: 172.52147118002176\n",
      "Epoch 6/10, Loss: 174.22789814323187\n",
      "Epoch 7/10, Loss: 174.05153877288103\n",
      "Epoch 8/10, Loss: 174.4821264743805\n",
      "Epoch 9/10, Loss: 175.1611326932907\n",
      "Epoch 10/10, Loss: 175.51774188876152\n",
      "Model DeepSVDD AUC: 0.9781373625388011, Balanced Accuracy: 0.9781373625388012\n",
      "Epoch 1/10, Loss: 128.89461359754205\n",
      "Epoch 2/10, Loss: 130.39587535709143\n",
      "Epoch 3/10, Loss: 130.38112896680832\n",
      "Epoch 4/10, Loss: 129.9434836320579\n",
      "Epoch 5/10, Loss: 129.52119014039636\n",
      "Epoch 6/10, Loss: 130.28410729020834\n",
      "Epoch 7/10, Loss: 130.0515279993415\n",
      "Epoch 8/10, Loss: 129.79421920329332\n",
      "Epoch 9/10, Loss: 129.71573555469513\n",
      "Epoch 10/10, Loss: 129.65603530034423\n",
      "Model DeepSVDD AUC: 0.9842197427784216, Balanced Accuracy: 0.9842197427784216\n",
      "Epoch 1/10, Loss: 10.52270665857941\n",
      "Epoch 2/10, Loss: 10.421237421222031\n",
      "Epoch 3/10, Loss: 10.424792754463851\n",
      "Epoch 4/10, Loss: 10.451892131473869\n",
      "Epoch 5/10, Loss: 10.366246882360429\n",
      "Epoch 6/10, Loss: 10.460224665235728\n",
      "Epoch 7/10, Loss: 10.494016318581998\n",
      "Epoch 8/10, Loss: 10.564685646444559\n",
      "Epoch 9/10, Loss: 10.463283349294215\n",
      "Epoch 10/10, Loss: 10.430516304448247\n",
      "Model DeepSVDD AUC: 0.9081840805905843, Balanced Accuracy: 0.9081840805905843\n"
     ]
    }
   ],
   "source": [
    "evaluate_model(OCSVM, {'contamination': 0.1}, X_train, X_test, y_train, y_test)\n",
    "evaluate_model(OCSVM, {'contamination': 0.2}, X_train, X_test, y_train, y_test)\n",
    "evaluate_model(DeepSVDD, {'n_features': X_train.shape[1], 'epochs': 10, 'hidden_neurons': [64, 32, 16]}, X_train, X_test, y_train, y_test)\n",
    "evaluate_model(DeepSVDD, {'n_features': X_train.shape[1], 'epochs': 10, 'hidden_neurons': [128, 64, 32]}, X_train, X_test, y_train, y_test)\n",
    "evaluate_model(DeepSVDD, {'n_features': X_train.shape[1], 'epochs': 10, 'hidden_neurons': [1024, 512, 256, 128, 64]}, X_train, X_test, y_train, y_test)"
   ]
  }
 ],
 "metadata": {
  "kernelspec": {
   "display_name": "aienv",
   "language": "python",
   "name": "python3"
  },
  "language_info": {
   "codemirror_mode": {
    "name": "ipython",
    "version": 3
   },
   "file_extension": ".py",
   "mimetype": "text/x-python",
   "name": "python",
   "nbconvert_exporter": "python",
   "pygments_lexer": "ipython3",
   "version": "3.11.10"
  }
 },
 "nbformat": 4,
 "nbformat_minor": 2
}
