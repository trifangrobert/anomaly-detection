{
 "cells": [
  {
   "cell_type": "code",
   "execution_count": 28,
   "metadata": {},
   "outputs": [],
   "source": [
    "from scipy.io import loadmat\n",
    "from sklearn.model_selection import train_test_split\n",
    "from sklearn import preprocessing\n",
    "from sklearn.metrics import roc_auc_score\n",
    "from sklearn.metrics import balanced_accuracy_score\n",
    "\n",
    "from pyod.models.iforest import IForest\n",
    "from pyod.models.loda import LODA\n",
    "from pyod.models.dif import DIF"
   ]
  },
  {
   "cell_type": "code",
   "execution_count": 29,
   "metadata": {},
   "outputs": [],
   "source": [
    "data = loadmat('shuttle.mat')"
   ]
  },
  {
   "cell_type": "code",
   "execution_count": 30,
   "metadata": {},
   "outputs": [],
   "source": [
    "train_data, test_data, train_labels, test_labels = train_test_split(data['X'], data['y'], test_size=0.4)"
   ]
  },
  {
   "cell_type": "code",
   "execution_count": 31,
   "metadata": {},
   "outputs": [],
   "source": [
    "normalizer = preprocessing.Normalizer()\n",
    "train_data = normalizer.fit_transform(train_data)\n",
    "test_data = normalizer.transform(test_data) # normalize test data using the same normalizer as train data\n"
   ]
  },
  {
   "cell_type": "code",
   "execution_count": 32,
   "metadata": {},
   "outputs": [
    {
     "name": "stdout",
     "output_type": "stream",
     "text": [
      "(29458, 9)\n",
      "[0.33136248 0.         0.68959218 0.         0.23284931 0.02686723\n",
      " 0.36718545 0.46569862 0.08955743]\n",
      "(19639, 9)\n",
      "[0.43186628 0.         0.6810199  0.         0.44847652 0.19101778\n",
      " 0.2408485  0.23254338 0.        ]\n"
     ]
    }
   ],
   "source": [
    "print(train_data.shape)\n",
    "print(train_data[0])\n",
    "print(test_data.shape)\n",
    "print(test_data[0])"
   ]
  },
  {
   "cell_type": "code",
   "execution_count": 33,
   "metadata": {},
   "outputs": [],
   "source": [
    "def compute_metrics(model_type, model_args, train_data, test_data, train_labels, test_labels):\n",
    "    model = model_type(**model_args)\n",
    "    model.fit(train_data)\n",
    "    \n",
    "    y_pred = model.predict(test_data)\n",
    "    ba = balanced_accuracy_score(test_labels, y_pred)\n",
    "    roc_auc = roc_auc_score(test_labels, y_pred)\n",
    "    \n",
    "    print(f'Model {model_type.__name__} BA: {ba}, ROC AUC: {roc_auc}')"
   ]
  },
  {
   "cell_type": "code",
   "execution_count": 35,
   "metadata": {},
   "outputs": [
    {
     "name": "stdout",
     "output_type": "stream",
     "text": [
      "Split 0\n",
      "Model IForest BA: 0.5998333516463392, ROC AUC: 0.5998333516463392\n",
      "Model LODA BA: 0.617981540490056, ROC AUC: 0.6179815404900562\n",
      "Model DIF BA: 0.5105940739112919, ROC AUC: 0.5105940739112919\n",
      "Split 1\n",
      "Model IForest BA: 0.604398227685085, ROC AUC: 0.604398227685085\n",
      "Model LODA BA: 0.6064795523782491, ROC AUC: 0.6064795523782491\n",
      "Model DIF BA: 0.5088589123484015, ROC AUC: 0.5088589123484014\n",
      "Split 2\n",
      "Model IForest BA: 0.5975364102578582, ROC AUC: 0.5975364102578581\n",
      "Model LODA BA: 0.5948096064620105, ROC AUC: 0.5948096064620104\n",
      "Model DIF BA: 0.5075146706483272, ROC AUC: 0.5075146706483272\n",
      "Split 3\n",
      "Model IForest BA: 0.607963763963556, ROC AUC: 0.607963763963556\n",
      "Model LODA BA: 0.6175132577726942, ROC AUC: 0.6175132577726942\n",
      "Model DIF BA: 0.5078648792774819, ROC AUC: 0.5078648792774819\n",
      "Split 4\n",
      "Model IForest BA: 0.6048049832491118, ROC AUC: 0.6048049832491118\n",
      "Model LODA BA: 0.617036479150722, ROC AUC: 0.617036479150722\n",
      "Model DIF BA: 0.5076126656515761, ROC AUC: 0.5076126656515761\n",
      "Split 5\n",
      "Model IForest BA: 0.5937802335602971, ROC AUC: 0.5937802335602971\n",
      "Model LODA BA: 0.6089650615370088, ROC AUC: 0.6089650615370088\n",
      "Model DIF BA: 0.5118192447403305, ROC AUC: 0.5118192447403305\n",
      "Split 6\n",
      "Model IForest BA: 0.593001848472269, ROC AUC: 0.593001848472269\n",
      "Model LODA BA: 0.5976408872666891, ROC AUC: 0.5976408872666892\n",
      "Model DIF BA: 0.5078327837522421, ROC AUC: 0.5078327837522422\n",
      "Split 7\n",
      "Model IForest BA: 0.6256837826751982, ROC AUC: 0.6256837826751983\n",
      "Model LODA BA: 0.6140169465848739, ROC AUC: 0.6140169465848739\n",
      "Model DIF BA: 0.5092367075274338, ROC AUC: 0.5092367075274339\n",
      "Split 8\n",
      "Model IForest BA: 0.6067986959211554, ROC AUC: 0.6067986959211554\n",
      "Model LODA BA: 0.6126907119233618, ROC AUC: 0.6126907119233618\n",
      "Model DIF BA: 0.5114184513668112, ROC AUC: 0.5114184513668112\n",
      "Split 9\n",
      "Model IForest BA: 0.6176586320371693, ROC AUC: 0.6176586320371694\n",
      "Model LODA BA: 0.6078814617408771, ROC AUC: 0.6078814617408772\n",
      "Model DIF BA: 0.5088231725186365, ROC AUC: 0.5088231725186365\n"
     ]
    }
   ],
   "source": [
    "for n_split in range(10):\n",
    "    train_data, test_data, train_labels, test_labels = train_test_split(data['X'], data['y'], test_size=0.4)\n",
    "    \n",
    "    normalizer = preprocessing.Normalizer()\n",
    "    train_data = normalizer.fit_transform(train_data)\n",
    "    test_data = normalizer.transform(test_data)\n",
    "    \n",
    "    print(f'Split {n_split}')\n",
    "    compute_metrics(IForest, {'contamination': 0.02}, train_data, test_data, train_labels, test_labels)\n",
    "    compute_metrics(LODA, {'contamination': 0.02, 'n_bins': 10}, train_data, test_data, train_labels, test_labels)\n",
    "    compute_metrics(DIF, {'contamination': 0.02}, train_data, test_data, train_labels, test_labels)\n",
    "    \n",
    "    \n",
    "    \n",
    "    "
   ]
  }
 ],
 "metadata": {
  "kernelspec": {
   "display_name": "aienv",
   "language": "python",
   "name": "python3"
  },
  "language_info": {
   "codemirror_mode": {
    "name": "ipython",
    "version": 3
   },
   "file_extension": ".py",
   "mimetype": "text/x-python",
   "name": "python",
   "nbconvert_exporter": "python",
   "pygments_lexer": "ipython3",
   "version": "3.11.10"
  }
 },
 "nbformat": 4,
 "nbformat_minor": 2
}
